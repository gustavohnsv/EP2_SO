{
 "cells": [
  {
   "cell_type": "code",
   "execution_count": null,
   "metadata": {},
   "outputs": [],
   "source": [
    "import pandas as pd\n",
    "import matplotlib.pyplot as plt\n",
    "\n",
    "df = pd.read_csv('saida_programa.csv')"
   ]
  },
  {
   "cell_type": "code",
   "execution_count": null,
   "metadata": {},
   "outputs": [],
   "source": [
    "df.head()"
   ]
  },
  {
   "cell_type": "code",
   "execution_count": null,
   "metadata": {},
   "outputs": [],
   "source": [
    "df_mean = df.groupby('num_threads')[['real_time', 'usr_time', 'sys_time']].mean().reset_index()"
   ]
  },
  {
   "cell_type": "code",
   "execution_count": null,
   "metadata": {},
   "outputs": [],
   "source": [
    "plt.ioff()\n",
    "plt.clf()"
   ]
  },
  {
   "cell_type": "code",
   "execution_count": null,
   "metadata": {},
   "outputs": [],
   "source": [
    "plt.plot(df_mean['num_threads'], df_mean['real_time'] * 100, marker='o', color='blue', label='Real Time (x100)')\n",
    "plt.plot(df_mean['num_threads'], df_mean['usr_time'] * 100, marker='x', color='green', label='User Time (x100)')\n",
    "plt.plot(df_mean['num_threads'], df_mean['sys_time'] * 100, marker='^', color='red', label='Sys Time (x100)')\n",
    "plt.title('Desempenho por número de threads para 1K de registros')\n",
    "plt.xlabel('Número de Threads')\n",
    "plt.ylabel('Tempo Escalado (x100)')\n",
    "plt.legend(loc='upper right', bbox_to_anchor=(1,1))\n",
    "plt.grid(True)\n",
    "plt.tight_layout()\n",
    "plt.savefig('./assets/grafico_1K.png', dpi=300)"
   ]
  },
  {
   "cell_type": "code",
   "execution_count": null,
   "metadata": {},
   "outputs": [],
   "source": [
    "del(df, df_mean)"
   ]
  }
 ],
 "metadata": {
  "kernelspec": {
   "display_name": "Python 3",
   "language": "python",
   "name": "python3"
  },
  "language_info": {
   "codemirror_mode": {
    "name": "ipython",
    "version": 3
   },
   "file_extension": ".py",
   "mimetype": "text/x-python",
   "name": "python",
   "nbconvert_exporter": "python",
   "pygments_lexer": "ipython3",
   "version": "3.12.3"
  }
 },
 "nbformat": 4,
 "nbformat_minor": 2
}
