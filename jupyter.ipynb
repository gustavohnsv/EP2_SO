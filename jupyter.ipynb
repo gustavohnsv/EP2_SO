{
 "cells": [
  {
   "cell_type": "code",
   "execution_count": null,
   "metadata": {},
   "outputs": [],
   "source": [
    "import pandas as pd\n",
    "import matplotlib.pyplot as plt\n",
    "\n",
    "df_1K = pd.read_csv('saida_1K.csv')\n",
    "df_10K = pd.read_csv('saida_10K.csv')\n",
    "df_100K = pd.read_csv('saida_100K.csv')\n",
    "df_1M = pd.read_csv('saida_1M.csv')"
   ]
  },
  {
   "cell_type": "code",
   "execution_count": null,
   "metadata": {},
   "outputs": [],
   "source": [
    "df_1K.head()"
   ]
  },
  {
   "cell_type": "code",
   "execution_count": null,
   "metadata": {},
   "outputs": [],
   "source": [
    "df_10K.head()"
   ]
  },
  {
   "cell_type": "code",
   "execution_count": null,
   "metadata": {},
   "outputs": [],
   "source": [
    "df_100K.head()"
   ]
  },
  {
   "cell_type": "code",
   "execution_count": null,
   "metadata": {},
   "outputs": [],
   "source": [
    "df_1M.head()"
   ]
  },
  {
   "cell_type": "code",
   "execution_count": null,
   "metadata": {},
   "outputs": [],
   "source": [
    "df_1K_mean = df_1K.groupby('num_threads')[['real_time', 'usr_time', 'sys_time']].mean().reset_index()\n",
    "df_10K_mean = df_10K.groupby('num_threads')[['real_time', 'usr_time', 'sys_time']].mean().reset_index()\n",
    "df_100K_mean = df_100K.groupby('num_threads')[['real_time', 'usr_time', 'sys_time']].mean().reset_index()\n",
    "df_1M_mean = df_1M.groupby('num_threads')[['real_time', 'usr_time', 'sys_time']].mean().reset_index()"
   ]
  },
  {
   "cell_type": "code",
   "execution_count": null,
   "metadata": {},
   "outputs": [],
   "source": [
    "plt.ioff()\n",
    "plt.clf()"
   ]
  },
  {
   "cell_type": "code",
   "execution_count": null,
   "metadata": {},
   "outputs": [],
   "source": [
    "plt.plot(df_1K_mean['num_threads'], df_1K_mean['real_time'] * 100, marker='o', color='blue', label='Real Time (x100)')\n",
    "plt.plot(df_1K_mean['num_threads'], df_1K_mean['usr_time'] * 100, marker='x', color='green', label='User Time (x100)')\n",
    "plt.plot(df_1K_mean['num_threads'], df_1K_mean['sys_time'] * 100, marker='^', color='red', label='Sys Time (x100)')\n",
    "plt.title('Desempenho por número de threads para 1K de registros')\n",
    "plt.xlabel('Número de Threads')\n",
    "plt.ylabel('Tempo Escalado (x100)')\n",
    "plt.legend(loc='upper right', bbox_to_anchor=(1,1))\n",
    "plt.grid(True)\n",
    "plt.tight_layout()\n",
    "plt.savefig('./assets/grafico_1K.png', dpi=300)"
   ]
  },
  {
   "cell_type": "code",
   "execution_count": null,
   "metadata": {},
   "outputs": [],
   "source": [
    "plt.plot(df_10K_mean['num_threads'], df_10K_mean['real_time'] * 100, marker='o', color='blue', label='Real Time (x100)')\n",
    "plt.plot(df_10K_mean['num_threads'], df_10K_mean['usr_time'] * 100, marker='x', color='green', label='User Time (x100)')\n",
    "plt.plot(df_10K_mean['num_threads'], df_10K_mean['sys_time'] * 100, marker='^', color='red', label='Sys Time (x100)')\n",
    "plt.title('Desempenho por número de threads para 10K de registros')\n",
    "plt.xlabel('Número de Threads')\n",
    "plt.ylabel('Tempo Escalado (x100)')\n",
    "plt.legend(loc='upper right', bbox_to_anchor=(1,1))\n",
    "plt.grid(True)\n",
    "plt.tight_layout()\n",
    "plt.savefig('./assets/grafico_10K.png', dpi=300)"
   ]
  },
  {
   "cell_type": "code",
   "execution_count": null,
   "metadata": {},
   "outputs": [],
   "source": [
    "plt.plot(df_100K_mean['num_threads'], df_100K_mean['real_time'] * 100, marker='o', color='blue', label='Real Time (x100)')\n",
    "plt.plot(df_100K_mean['num_threads'], df_100K_mean['usr_time'] * 100, marker='x', color='green', label='User Time (x100)')\n",
    "plt.plot(df_100K_mean['num_threads'], df_100K_mean['sys_time'] * 100, marker='^', color='red', label='Sys Time (x100)')\n",
    "plt.title('Desempenho por número de threads para 100K de registros')\n",
    "plt.xlabel('Número de Threads')\n",
    "plt.ylabel('Tempo Escalado (x100)')\n",
    "plt.legend(loc='upper right', bbox_to_anchor=(1,1))\n",
    "plt.grid(True)\n",
    "plt.tight_layout()\n",
    "plt.savefig('./assets/grafico_100K.png', dpi=300)"
   ]
  },
  {
   "cell_type": "code",
   "execution_count": null,
   "metadata": {},
   "outputs": [],
   "source": [
    "plt.plot(df_1M_mean['num_threads'], df_1M_mean['real_time'] * 100, marker='o', color='blue', label='Real Time (x100)')\n",
    "plt.plot(df_1M_mean['num_threads'], df_1M_mean['usr_time'] * 100, marker='x', color='green', label='User Time (x100)')\n",
    "plt.plot(df_1M_mean['num_threads'], df_1M_mean['sys_time'] * 100, marker='^', color='red', label='Sys Time (x100)')\n",
    "plt.title('Desempenho por número de threads para 1M de registros')\n",
    "plt.xlabel('Número de Threads')\n",
    "plt.ylabel('Tempo Escalado (x100)')\n",
    "plt.legend(loc='upper right', bbox_to_anchor=(1,1))\n",
    "plt.grid(True)\n",
    "plt.tight_layout()\n",
    "plt.savefig('./assets/grafico_1M.png', dpi=300)"
   ]
  },
  {
   "cell_type": "code",
   "execution_count": null,
   "metadata": {},
   "outputs": [],
   "source": [
    "del(df_1K, df_1K_mean, df_10K, df_10K_mean, df_100K, df_100K_mean, df_1M, df_1M_mean)"
   ]
  }
 ],
 "metadata": {
  "kernelspec": {
   "display_name": "Python 3",
   "language": "python",
   "name": "python3"
  },
  "language_info": {
   "codemirror_mode": {
    "name": "ipython",
    "version": 3
   },
   "file_extension": ".py",
   "mimetype": "text/x-python",
   "name": "python",
   "nbconvert_exporter": "python",
   "pygments_lexer": "ipython3",
   "version": "3.12.3"
  }
 },
 "nbformat": 4,
 "nbformat_minor": 2
}
